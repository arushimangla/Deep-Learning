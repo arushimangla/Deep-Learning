{
  "nbformat": 4,
  "nbformat_minor": 0,
  "metadata": {
    "colab": {
      "provenance": []
    },
    "kernelspec": {
      "name": "python3",
      "display_name": "Python 3"
    },
    "language_info": {
      "name": "python"
    }
  },
  "cells": [
    {
      "cell_type": "markdown",
      "source": [
        "**1 - LOAD PACKAGES**"
      ],
      "metadata": {
        "id": "p8SYxTNkdYSd"
      }
    },
    {
      "cell_type": "markdown",
      "source": [
        "\n",
        "\n",
        "*   [numpy](https://numpy.org/) is the fundamental package for scientific computing with Python.\n",
        "*   [matplotlib](https://matplotlib.org/) is a library for plotting graphs in Python.\n",
        "*   [pandas](https://pandas.pydata.org/) is used for data manipulation and analysis\n",
        "*   [sklearn](https://scikit-learn.org/stable/) is used for data mining and data analysis using simple functions\n",
        "*   [collections](https://docs.python.org/3/library/collections.html) is a library which implements operations on specialized container datatypes\n",
        "*   [tensorflow](https://www.tensorflow.org/learn) is an open-source library used for high performance numerical computations and for building machine learning models\n",
        "\n",
        "\n",
        "\n"
      ],
      "metadata": {
        "id": "xxyU9KwPdWvo"
      }
    },
    {
      "cell_type": "code",
      "execution_count": 1,
      "metadata": {
        "id": "hWWhvR1TBB5s"
      },
      "outputs": [],
      "source": [
        "#Importing required libraries\n",
        "import pandas as pd\n",
        "import matplotlib.pyplot as plt\n",
        "import seaborn as sns\n",
        "from collections import Counter\n",
        "import collections\n",
        "import numpy as np\n",
        "from imblearn.over_sampling import RandomOverSampler\n",
        "from sklearn import preprocessing, model_selection\n",
        "from sklearn.metrics import confusion_matrix\n",
        "from sklearn.metrics import matthews_corrcoef\n",
        "import itertools\n",
        "\n",
        "import tensorflow as tf\n",
        "from tensorflow.keras import layers, models\n",
        "from tensorflow.keras.regularizers import l2\n",
        "from tensorflow.keras.models import Sequential\n",
        "from tensorflow.keras.layers import Embedding\n",
        "from tensorflow.keras.optimizers import SGD, Adam\n",
        "from tensorflow.keras.layers import Dropout\n",
        "from tensorflow.keras.layers import LSTM\n",
        "from tensorflow.keras.layers import BatchNormalization"
      ]
    },
    {
      "cell_type": "markdown",
      "source": [
        "**2 - LOADING THE DATA**"
      ],
      "metadata": {
        "id": "MRASWeQEeOSi"
      }
    },
    {
      "cell_type": "code",
      "source": [
        "#Reading the data\n",
        "with open('train.dat','r') as f:\n",
        "    train = f.readlines()\n",
        "\n",
        "with open('test.dat','r') as f:\n",
        "    test = f.readlines()"
      ],
      "metadata": {
        "id": "2zCYx__NBCda"
      },
      "execution_count": 2,
      "outputs": []
    },
    {
      "cell_type": "markdown",
      "source": [
        "**3 - UNDERSTANDING THE DATA**"
      ],
      "metadata": {
        "id": "wTzg7TBoect4"
      }
    },
    {
      "cell_type": "code",
      "source": [
        "#Splitting the data by tab\n",
        "ytr = [int(p.split('\\t')[0]) for p in train]\n",
        "tr = [p.split('\\t')[1].strip() for p in train]\n",
        "tr_label = [p.split('\\t')[0].strip() for p in train]\n",
        "tr_label = np.array(tr_label).astype(int)\n",
        "\n",
        "# te = [int(p.split('\\t')[0]) for p in test]\n",
        "te = [p.strip() for p in test]"
      ],
      "metadata": {
        "id": "AzIjK-tdfyiC"
      },
      "execution_count": 3,
      "outputs": []
    },
    {
      "cell_type": "code",
      "source": [
        "len_train = len(train)\n",
        "len_test = len(test)\n",
        "label_count = Counter(tr_label)\n",
        "\n",
        "print (f'The shape of train data is: ',  len_train)\n",
        "print (f'The shape of test data is: ', len_test)\n",
        "print (f'Label count: ', label_count)"
      ],
      "metadata": {
        "colab": {
          "base_uri": "https://localhost:8080/"
        },
        "id": "r6zwy-mWfw_l",
        "outputId": "e8b2e90e-eabc-4707-d571-bbf89ec69b5c"
      },
      "execution_count": 4,
      "outputs": [
        {
          "output_type": "stream",
          "name": "stdout",
          "text": [
            "The shape of train data is:  1566\n",
            "The shape of test data is:  392\n",
            "Label count:  Counter({-1: 1424, 1: 142})\n"
          ]
        }
      ]
    },
    {
      "cell_type": "markdown",
      "source": [
        "**4 - PREPROCESSING THE DATA**"
      ],
      "metadata": {
        "id": "7-O_EszHeTat"
      }
    },
    {
      "cell_type": "markdown",
      "source": [
        "Feature exraction has been done using the k-mers model and obersampling has been done using RandomOverSampler in-built function of imblearn library in python."
      ],
      "metadata": {
        "id": "lsNjrmPceZA2"
      }
    },
    {
      "cell_type": "markdown",
      "source": [
        "**4.1 - Extracting character sequences using k-mers**"
      ],
      "metadata": {
        "id": "I3k4tkyZebUR"
      }
    },
    {
      "cell_type": "code",
      "source": [
        "#k mers generates all possible substrings of length k\n",
        "def kmer(p, k =2):\n",
        "  return [p[i:i+k] for i in range(0,len(p) - k+1)]\n",
        "\n",
        "def kmers(p, k =2):\n",
        "  els = []\n",
        "  for i in range(1,k):\n",
        "    els.extend(kmer(p, k =i))\n",
        "  return els\n",
        "\n",
        "tr = [kmers(p, k=3) for p in tr]\n",
        "te = [kmers(p, k=3) for p in te]\n",
        "\n",
        "mp = {}\n",
        "for p in tr+te:\n",
        "  for e in p:\n",
        "    if e not in mp:\n",
        "      mp[e] = len(mp.keys()) #assigning it the length of the dictionary\n",
        "len(mp)"
      ],
      "metadata": {
        "colab": {
          "base_uri": "https://localhost:8080/"
        },
        "id": "uo9OeZGFBEoZ",
        "outputId": "8585c7a3-1528-445e-8f09-9dc5842ae01d"
      },
      "execution_count": 5,
      "outputs": [
        {
          "output_type": "execute_result",
          "data": {
            "text/plain": [
              "436"
            ]
          },
          "metadata": {},
          "execution_count": 5
        }
      ]
    },
    {
      "cell_type": "code",
      "source": [
        "#Making a dense matrix\n",
        "def dense(ds):\n",
        "  op = []\n",
        "  for p in ds:\n",
        "    res = [0] * len(mp)\n",
        "    count = dict(collections.Counter(p))\n",
        "    for k in count:\n",
        "      res[mp[k]] = count[k]\n",
        "    op.append(res)\n",
        "  return np.array(op)"
      ],
      "metadata": {
        "id": "2DTVPLOxBFwI"
      },
      "execution_count": 6,
      "outputs": []
    },
    {
      "cell_type": "code",
      "source": [
        "dense_mat_train = dense(tr)\n",
        "dense_mat_test = dense(te)"
      ],
      "metadata": {
        "id": "c8ONJLCJDEKq"
      },
      "execution_count": 7,
      "outputs": []
    },
    {
      "cell_type": "markdown",
      "source": [
        "**4.2 - Oversampling to balance the data**"
      ],
      "metadata": {
        "id": "H39RD-0if8lo"
      }
    },
    {
      "cell_type": "code",
      "source": [
        "# Doing oversampling to balance the imbalanced classes\n",
        "oversampler = RandomOverSampler(sampling_strategy='minority', random_state=42)\n",
        "train_bal_df, train_bal_y = oversampler.fit_resample(dense_mat_train, tr_label)"
      ],
      "metadata": {
        "id": "31vrNOemDFTZ"
      },
      "execution_count": 8,
      "outputs": []
    },
    {
      "cell_type": "code",
      "source": [
        "# Plotting class distribution before oversampling\n",
        "plt.figure(figsize=(12, 5))\n",
        "plt.subplot(1, 2, 1)\n",
        "plt.hist(tr_label, bins = (-1,0,1), rwidth=0.8, color='skyblue', edgecolor='black')\n",
        "plt.title('Class Distribution Before Oversampling')\n",
        "plt.xlabel('Class Label')\n",
        "plt.ylabel('Count')\n",
        "\n",
        "# Plotting class distribution after oversampling\n",
        "plt.subplot(1, 2, 2)\n",
        "plt.hist(train_bal_y, bins = (-1,0,1), rwidth=0.8, color='lightcoral', edgecolor='black')\n",
        "plt.title('Class Distribution After Oversampling')\n",
        "plt.xlabel('Class Label')\n",
        "plt.ylabel('Count')\n",
        "\n",
        "plt.tight_layout()\n",
        "plt.show()"
      ],
      "metadata": {
        "colab": {
          "base_uri": "https://localhost:8080/",
          "height": 414
        },
        "id": "JZ6JkQANf-tC",
        "outputId": "e7062fea-af70-4dbc-d15b-d67ed75ee6b5"
      },
      "execution_count": 9,
      "outputs": [
        {
          "output_type": "display_data",
          "data": {
            "text/plain": [
              "<Figure size 1200x500 with 2 Axes>"
            ],
            "image/png": "[encoded data removed]"
          },
          "metadata": {}
        }
      ]
    },
    {
      "cell_type": "markdown",
      "source": [
        "**4.3 - Splitting data into train and validation sets to start training**"
      ],
      "metadata": {
        "id": "dF4Hi5pugBsO"
      }
    },
    {
      "cell_type": "code",
      "source": [
        "#dividing data into training and test\n",
        "train_x, val_x, train_y, val_y = model_selection.train_test_split(train_bal_df, train_bal_y, test_size = 0.2, random_state = 42)"
      ],
      "metadata": {
        "id": "fXvS5XqzDGYB"
      },
      "execution_count": 10,
      "outputs": []
    },
    {
      "cell_type": "markdown",
      "source": [
        "**5 - TENSORFLOW MODEL ARCHITECTURE**"
      ],
      "metadata": {
        "id": "auqAf--iCk2w"
      }
    },
    {
      "cell_type": "markdown",
      "source": [
        "**5.1 Building the model**"
      ],
      "metadata": {
        "id": "rg8B0kBFCs2T"
      }
    },
    {
      "cell_type": "code",
      "source": [
        "# Creating the peptide classification model\n",
        "def peptide_classification_model(kmers, x):\n",
        "    model = models.Sequential()\n",
        "\n",
        "    # Adding a Dense layer with ReLU activation as the first hidden layer\n",
        "    model = Sequential()\n",
        "    # model.add(Embedding(input_dim=len(kmers), output_dim=32, input_length=x.shape[1]))\n",
        "    # model.add(LSTM(32))\n",
        "\n",
        "    # Adding a Dense layer with ReLU activation\n",
        "    model.add(layers.Dense(256, activation='relu', input_shape=(x.shape[1],), kernel_regularizer=l2(0.001)))\n",
        "\n",
        "    #Adding a dropout layer\n",
        "    model.add(Dropout(0.8))\n",
        "\n",
        "    # Adding another Dense layer with ReLU activation\n",
        "    model.add(layers.Dense(128, activation='relu', kernel_regularizer=l2(0.001)))\n",
        "\n",
        "    # Adding a batch normalization layer\n",
        "    model.add(BatchNormalization())\n",
        "\n",
        "    # Adding the output layer with sigmoid activation for binary classification\n",
        "    model.add(layers.Dense(1, activation='sigmoid'))\n",
        "\n",
        "    #Defining the optimizer\n",
        "    adam = Adam(learning_rate=0.0001)\n",
        "    # Compiling the model\n",
        "    model.compile(optimizer=adam,\n",
        "                  loss='binary_crossentropy',\n",
        "                  metrics=['accuracy'])\n",
        "\n",
        "    return model\n",
        "\n",
        "# Inputting the number of features\n",
        "kmers = mp\n",
        "x = train_bal_df\n",
        "\n",
        "# Creating the binary classification model\n",
        "binary_model = peptide_classification_model(kmers, x)\n",
        "\n",
        "# Model summary\n",
        "binary_model.summary()"
      ],
      "metadata": {
        "colab": {
          "base_uri": "https://localhost:8080/"
        },
        "id": "IdKRmlNVDvSk",
        "outputId": "ed88d753-6e64-4517-a7b2-7a1b578b1cb9"
      },
      "execution_count": 11,
      "outputs": [
        {
          "output_type": "stream",
          "name": "stdout",
          "text": [
            "Model: \"sequential_1\"\n",
            "_________________________________________________________________\n",
            " Layer (type)                Output Shape              Param #   \n",
            "=================================================================\n",
            " dense (Dense)               (None, 256)               111872    \n",
            "                                                                 \n",
            " dropout (Dropout)           (None, 256)               0         \n",
            "                                                                 \n",
            " dense_1 (Dense)             (None, 128)               32896     \n",
            "                                                                 \n",
            " batch_normalization (Batch  (None, 128)               512       \n",
            " Normalization)                                                  \n",
            "                                                                 \n",
            " dense_2 (Dense)             (None, 1)                 129       \n",
            "                                                                 \n",
            "=================================================================\n",
            "Total params: 145409 (568.00 KB)\n",
            "Trainable params: 145153 (567.00 KB)\n",
            "Non-trainable params: 256 (1.00 KB)\n",
            "_________________________________________________________________\n"
          ]
        }
      ]
    },
    {
      "cell_type": "code",
      "source": [
        "train_bal_df.shape"
      ],
      "metadata": {
        "colab": {
          "base_uri": "https://localhost:8080/"
        },
        "id": "ZPv30gPqBgcv",
        "outputId": "d6227d29-542d-4f96-9d80-9dac90e31720"
      },
      "execution_count": 12,
      "outputs": [
        {
          "output_type": "execute_result",
          "data": {
            "text/plain": [
              "(2848, 436)"
            ]
          },
          "metadata": {},
          "execution_count": 12
        }
      ]
    },
    {
      "cell_type": "markdown",
      "source": [
        "**5.2 - Defining the hyperparameters and training the model**"
      ],
      "metadata": {
        "id": "B0FotpIlCwZO"
      }
    },
    {
      "cell_type": "code",
      "source": [
        "# Training the model\n",
        "history = binary_model.fit(train_x, train_y, epochs=100, validation_data=(val_x, val_y))"
      ],
      "metadata": {
        "colab": {
          "base_uri": "https://localhost:8080/"
        },
        "id": "A_ft8kMgElwH",
        "outputId": "893445c7-9962-4325-a956-1f925be219b4"
      },
      "execution_count": 13,
      "outputs": [
        {
          "output_type": "stream",
          "name": "stdout",
          "text": [
            "Epoch 1/100\n",
            "72/72 [==============================] - 1s 6ms/step - loss: 1.0664 - accuracy: 0.2928 - val_loss: 0.5864 - val_accuracy: 0.2649\n",
            "Epoch 2/100\n",
            "72/72 [==============================] - 0s 3ms/step - loss: 0.4678 - accuracy: 0.3696 - val_loss: 0.1001 - val_accuracy: 0.3947\n",
            "Epoch 3/100\n",
            "72/72 [==============================] - 0s 3ms/step - loss: -0.0512 - accuracy: 0.4008 - val_loss: -0.4606 - val_accuracy: 0.4105\n",
            "Epoch 4/100\n",
            "72/72 [==============================] - 0s 4ms/step - loss: -0.5989 - accuracy: 0.4096 - val_loss: -1.1164 - val_accuracy: 0.4158\n",
            "Epoch 5/100\n",
            "72/72 [==============================] - 0s 4ms/step - loss: -1.2233 - accuracy: 0.4271 - val_loss: -1.8447 - val_accuracy: 0.4211\n",
            "Epoch 6/100\n",
            "72/72 [==============================] - 0s 4ms/step - loss: -1.9198 - accuracy: 0.4346 - val_loss: -2.6773 - val_accuracy: 0.4211\n",
            "Epoch 7/100\n",
            "72/72 [==============================] - 0s 4ms/step - loss: -2.6929 - accuracy: 0.4403 - val_loss: -3.6474 - val_accuracy: 0.4228\n",
            "Epoch 8/100\n",
            "72/72 [==============================] - 0s 3ms/step - loss: -3.5114 - accuracy: 0.4434 - val_loss: -4.6525 - val_accuracy: 0.4228\n",
            "Epoch 9/100\n",
            "72/72 [==============================] - 0s 3ms/step - loss: -4.4799 - accuracy: 0.4500 - val_loss: -5.7101 - val_accuracy: 0.4263\n",
            "Epoch 10/100\n",
            "72/72 [==============================] - 0s 3ms/step - loss: -5.4019 - accuracy: 0.4513 - val_loss: -6.6957 - val_accuracy: 0.4263\n",
            "Epoch 11/100\n",
            "72/72 [==============================] - 0s 4ms/step - loss: -6.3701 - accuracy: 0.4583 - val_loss: -7.8352 - val_accuracy: 0.4263\n",
            "Epoch 12/100\n",
            "72/72 [==============================] - 0s 3ms/step - loss: -7.3219 - accuracy: 0.4583 - val_loss: -8.6860 - val_accuracy: 0.4351\n",
            "Epoch 13/100\n",
            "72/72 [==============================] - 0s 4ms/step - loss: -8.2317 - accuracy: 0.4653 - val_loss: -9.9666 - val_accuracy: 0.4351\n",
            "Epoch 14/100\n",
            "72/72 [==============================] - 0s 3ms/step - loss: -9.3212 - accuracy: 0.4653 - val_loss: -10.8372 - val_accuracy: 0.4404\n",
            "Epoch 15/100\n",
            "72/72 [==============================] - 0s 3ms/step - loss: -10.3523 - accuracy: 0.4622 - val_loss: -11.7712 - val_accuracy: 0.4509\n",
            "Epoch 16/100\n",
            "72/72 [==============================] - 0s 3ms/step - loss: -11.3835 - accuracy: 0.4723 - val_loss: -12.7989 - val_accuracy: 0.4526\n",
            "Epoch 17/100\n",
            "72/72 [==============================] - 0s 4ms/step - loss: -12.5527 - accuracy: 0.4741 - val_loss: -13.7376 - val_accuracy: 0.4526\n",
            "Epoch 18/100\n",
            "72/72 [==============================] - 0s 4ms/step - loss: -13.6422 - accuracy: 0.4794 - val_loss: -15.1156 - val_accuracy: 0.4526\n",
            "Epoch 19/100\n",
            "72/72 [==============================] - 0s 3ms/step - loss: -14.7053 - accuracy: 0.4802 - val_loss: -16.3278 - val_accuracy: 0.4614\n",
            "Epoch 20/100\n",
            "72/72 [==============================] - 0s 3ms/step - loss: -15.8690 - accuracy: 0.4802 - val_loss: -17.6517 - val_accuracy: 0.4614\n",
            "Epoch 21/100\n",
            "72/72 [==============================] - 0s 3ms/step - loss: -16.9596 - accuracy: 0.4855 - val_loss: -18.7181 - val_accuracy: 0.4649\n",
            "Epoch 22/100\n",
            "72/72 [==============================] - 0s 3ms/step - loss: -18.1823 - accuracy: 0.4899 - val_loss: -19.7261 - val_accuracy: 0.4649\n",
            "Epoch 23/100\n",
            "72/72 [==============================] - 0s 4ms/step - loss: -19.3169 - accuracy: 0.4860 - val_loss: -20.8952 - val_accuracy: 0.4667\n",
            "Epoch 24/100\n",
            "72/72 [==============================] - 0s 3ms/step - loss: -20.2811 - accuracy: 0.4886 - val_loss: -22.0496 - val_accuracy: 0.4702\n",
            "Epoch 25/100\n",
            "72/72 [==============================] - 0s 3ms/step - loss: -21.6096 - accuracy: 0.4895 - val_loss: -23.6495 - val_accuracy: 0.4702\n",
            "Epoch 26/100\n",
            "72/72 [==============================] - 0s 3ms/step - loss: -22.6433 - accuracy: 0.4895 - val_loss: -24.8173 - val_accuracy: 0.4702\n",
            "Epoch 27/100\n",
            "72/72 [==============================] - 0s 3ms/step - loss: -24.0720 - accuracy: 0.4890 - val_loss: -25.7868 - val_accuracy: 0.4702\n",
            "Epoch 28/100\n",
            "72/72 [==============================] - 0s 3ms/step - loss: -25.2480 - accuracy: 0.4952 - val_loss: -26.9112 - val_accuracy: 0.4702\n",
            "Epoch 29/100\n",
            "72/72 [==============================] - 0s 3ms/step - loss: -26.6220 - accuracy: 0.4960 - val_loss: -28.4540 - val_accuracy: 0.4702\n",
            "Epoch 30/100\n",
            "72/72 [==============================] - 0s 3ms/step - loss: -28.0954 - accuracy: 0.4960 - val_loss: -29.8727 - val_accuracy: 0.4702\n",
            "Epoch 31/100\n",
            "72/72 [==============================] - 0s 3ms/step - loss: -29.2144 - accuracy: 0.4965 - val_loss: -31.0215 - val_accuracy: 0.4702\n",
            "Epoch 32/100\n",
            "72/72 [==============================] - 0s 4ms/step - loss: -30.5100 - accuracy: 0.4965 - val_loss: -32.0964 - val_accuracy: 0.4702\n",
            "Epoch 33/100\n",
            "72/72 [==============================] - 0s 3ms/step - loss: -31.9915 - accuracy: 0.4960 - val_loss: -33.4264 - val_accuracy: 0.4702\n",
            "Epoch 34/100\n",
            "72/72 [==============================] - 0s 3ms/step - loss: -33.0851 - accuracy: 0.4960 - val_loss: -34.8553 - val_accuracy: 0.4702\n",
            "Epoch 35/100\n",
            "72/72 [==============================] - 0s 3ms/step - loss: -34.5633 - accuracy: 0.4991 - val_loss: -36.2829 - val_accuracy: 0.4702\n",
            "Epoch 36/100\n",
            "72/72 [==============================] - 0s 3ms/step - loss: -35.9629 - accuracy: 0.5000 - val_loss: -37.4444 - val_accuracy: 0.4702\n",
            "Epoch 37/100\n",
            "72/72 [==============================] - 0s 3ms/step - loss: -37.4853 - accuracy: 0.4991 - val_loss: -38.5674 - val_accuracy: 0.4702\n",
            "Epoch 38/100\n",
            "72/72 [==============================] - 0s 5ms/step - loss: -38.9426 - accuracy: 0.5000 - val_loss: -40.0867 - val_accuracy: 0.4702\n",
            "Epoch 39/100\n",
            "72/72 [==============================] - 0s 4ms/step - loss: -39.9056 - accuracy: 0.4934 - val_loss: -42.1111 - val_accuracy: 0.4702\n",
            "Epoch 40/100\n",
            "72/72 [==============================] - 0s 5ms/step - loss: -41.6699 - accuracy: 0.4978 - val_loss: -42.9219 - val_accuracy: 0.4702\n",
            "Epoch 41/100\n",
            "72/72 [==============================] - 0s 6ms/step - loss: -43.1323 - accuracy: 0.5009 - val_loss: -44.3454 - val_accuracy: 0.4702\n",
            "Epoch 42/100\n",
            "72/72 [==============================] - 0s 3ms/step - loss: -44.7517 - accuracy: 0.4991 - val_loss: -46.4101 - val_accuracy: 0.4702\n",
            "Epoch 43/100\n",
            "72/72 [==============================] - 0s 3ms/step - loss: -46.4790 - accuracy: 0.4982 - val_loss: -47.8750 - val_accuracy: 0.4702\n",
            "Epoch 44/100\n",
            "72/72 [==============================] - 0s 3ms/step - loss: -48.0200 - accuracy: 0.5000 - val_loss: -49.4057 - val_accuracy: 0.4702\n",
            "Epoch 45/100\n",
            "72/72 [==============================] - 0s 4ms/step - loss: -49.6205 - accuracy: 0.4974 - val_loss: -50.6095 - val_accuracy: 0.4702\n",
            "Epoch 46/100\n",
            "72/72 [==============================] - 0s 3ms/step - loss: -50.9962 - accuracy: 0.4987 - val_loss: -53.1068 - val_accuracy: 0.4702\n",
            "Epoch 47/100\n",
            "72/72 [==============================] - 0s 3ms/step - loss: -52.8356 - accuracy: 0.4996 - val_loss: -54.6531 - val_accuracy: 0.4702\n",
            "Epoch 48/100\n",
            "72/72 [==============================] - 0s 4ms/step - loss: -54.2183 - accuracy: 0.4965 - val_loss: -56.3874 - val_accuracy: 0.4702\n",
            "Epoch 49/100\n",
            "72/72 [==============================] - 0s 3ms/step - loss: -56.0648 - accuracy: 0.5013 - val_loss: -57.8625 - val_accuracy: 0.4702\n",
            "Epoch 50/100\n",
            "72/72 [==============================] - 0s 4ms/step - loss: -57.9457 - accuracy: 0.4982 - val_loss: -60.2582 - val_accuracy: 0.4702\n",
            "Epoch 51/100\n",
            "72/72 [==============================] - 0s 3ms/step - loss: -59.4816 - accuracy: 0.5018 - val_loss: -61.6608 - val_accuracy: 0.4702\n",
            "Epoch 52/100\n",
            "72/72 [==============================] - 0s 3ms/step - loss: -60.7906 - accuracy: 0.4960 - val_loss: -63.4860 - val_accuracy: 0.4702\n",
            "Epoch 53/100\n",
            "72/72 [==============================] - 0s 3ms/step - loss: -63.0769 - accuracy: 0.5009 - val_loss: -65.7528 - val_accuracy: 0.4702\n",
            "Epoch 54/100\n",
            "72/72 [==============================] - 0s 3ms/step - loss: -64.6262 - accuracy: 0.5009 - val_loss: -67.5668 - val_accuracy: 0.4702\n",
            "Epoch 55/100\n",
            "72/72 [==============================] - 0s 3ms/step - loss: -65.7071 - accuracy: 0.4956 - val_loss: -69.7607 - val_accuracy: 0.4702\n",
            "Epoch 56/100\n",
            "72/72 [==============================] - 0s 3ms/step - loss: -67.6051 - accuracy: 0.4982 - val_loss: -71.6422 - val_accuracy: 0.4702\n",
            "Epoch 57/100\n",
            "72/72 [==============================] - 0s 4ms/step - loss: -69.5593 - accuracy: 0.5022 - val_loss: -73.4564 - val_accuracy: 0.4702\n",
            "Epoch 58/100\n",
            "72/72 [==============================] - 0s 3ms/step - loss: -71.2521 - accuracy: 0.4982 - val_loss: -74.6426 - val_accuracy: 0.4702\n",
            "Epoch 59/100\n",
            "72/72 [==============================] - 0s 3ms/step - loss: -72.9232 - accuracy: 0.4991 - val_loss: -77.5683 - val_accuracy: 0.4702\n",
            "Epoch 60/100\n",
            "72/72 [==============================] - 0s 3ms/step - loss: -74.3259 - accuracy: 0.4982 - val_loss: -79.7171 - val_accuracy: 0.4702\n",
            "Epoch 61/100\n",
            "72/72 [==============================] - 0s 3ms/step - loss: -76.7058 - accuracy: 0.5018 - val_loss: -80.5189 - val_accuracy: 0.4702\n",
            "Epoch 62/100\n",
            "72/72 [==============================] - 0s 3ms/step - loss: -78.2360 - accuracy: 0.4978 - val_loss: -83.6481 - val_accuracy: 0.4702\n",
            "Epoch 63/100\n",
            "72/72 [==============================] - 0s 3ms/step - loss: -80.5856 - accuracy: 0.5026 - val_loss: -85.5281 - val_accuracy: 0.4702\n",
            "Epoch 64/100\n",
            "72/72 [==============================] - 0s 3ms/step - loss: -81.9758 - accuracy: 0.4987 - val_loss: -88.1275 - val_accuracy: 0.4702\n",
            "Epoch 65/100\n",
            "72/72 [==============================] - 0s 3ms/step - loss: -83.9151 - accuracy: 0.4982 - val_loss: -89.7180 - val_accuracy: 0.4702\n",
            "Epoch 66/100\n",
            "72/72 [==============================] - 0s 3ms/step - loss: -85.7995 - accuracy: 0.5013 - val_loss: -90.5988 - val_accuracy: 0.4702\n",
            "Epoch 67/100\n",
            "72/72 [==============================] - 0s 3ms/step - loss: -87.6021 - accuracy: 0.5018 - val_loss: -93.0344 - val_accuracy: 0.4702\n",
            "Epoch 68/100\n",
            "72/72 [==============================] - 0s 3ms/step - loss: -89.3376 - accuracy: 0.5031 - val_loss: -94.9576 - val_accuracy: 0.4702\n",
            "Epoch 69/100\n",
            "72/72 [==============================] - 0s 3ms/step - loss: -91.3779 - accuracy: 0.5022 - val_loss: -97.3013 - val_accuracy: 0.4702\n",
            "Epoch 70/100\n",
            "72/72 [==============================] - 0s 3ms/step - loss: -93.1005 - accuracy: 0.4978 - val_loss: -99.7977 - val_accuracy: 0.4702\n",
            "Epoch 71/100\n",
            "72/72 [==============================] - 0s 3ms/step - loss: -95.4580 - accuracy: 0.5013 - val_loss: -101.6978 - val_accuracy: 0.4702\n",
            "Epoch 72/100\n",
            "72/72 [==============================] - 0s 3ms/step - loss: -97.0879 - accuracy: 0.4974 - val_loss: -103.6228 - val_accuracy: 0.4702\n",
            "Epoch 73/100\n",
            "72/72 [==============================] - 0s 3ms/step - loss: -98.8801 - accuracy: 0.4974 - val_loss: -105.7371 - val_accuracy: 0.4702\n",
            "Epoch 74/100\n",
            "72/72 [==============================] - 0s 4ms/step - loss: -100.5257 - accuracy: 0.4982 - val_loss: -107.6663 - val_accuracy: 0.4702\n",
            "Epoch 75/100\n",
            "72/72 [==============================] - 0s 3ms/step - loss: -103.0473 - accuracy: 0.5013 - val_loss: -110.5037 - val_accuracy: 0.4702\n",
            "Epoch 76/100\n",
            "72/72 [==============================] - 0s 3ms/step - loss: -104.7523 - accuracy: 0.4991 - val_loss: -112.2619 - val_accuracy: 0.4702\n",
            "Epoch 77/100\n",
            "72/72 [==============================] - 0s 3ms/step - loss: -107.4956 - accuracy: 0.5018 - val_loss: -114.1100 - val_accuracy: 0.4702\n",
            "Epoch 78/100\n",
            "72/72 [==============================] - 0s 3ms/step - loss: -109.1402 - accuracy: 0.5026 - val_loss: -116.8616 - val_accuracy: 0.4702\n",
            "Epoch 79/100\n",
            "72/72 [==============================] - 0s 4ms/step - loss: -111.0761 - accuracy: 0.4987 - val_loss: -118.3152 - val_accuracy: 0.4702\n",
            "Epoch 80/100\n",
            "72/72 [==============================] - 0s 3ms/step - loss: -112.9137 - accuracy: 0.4991 - val_loss: -119.7286 - val_accuracy: 0.4702\n",
            "Epoch 81/100\n",
            "72/72 [==============================] - 0s 3ms/step - loss: -115.3009 - accuracy: 0.5044 - val_loss: -121.9818 - val_accuracy: 0.4702\n",
            "Epoch 82/100\n",
            "72/72 [==============================] - 0s 3ms/step - loss: -116.9837 - accuracy: 0.4978 - val_loss: -124.6915 - val_accuracy: 0.4702\n",
            "Epoch 83/100\n",
            "72/72 [==============================] - 0s 5ms/step - loss: -119.5111 - accuracy: 0.5000 - val_loss: -126.0908 - val_accuracy: 0.4702\n",
            "Epoch 84/100\n",
            "72/72 [==============================] - 0s 5ms/step - loss: -121.1863 - accuracy: 0.5035 - val_loss: -128.9736 - val_accuracy: 0.4702\n",
            "Epoch 85/100\n",
            "72/72 [==============================] - 0s 6ms/step - loss: -124.1698 - accuracy: 0.5022 - val_loss: -131.4818 - val_accuracy: 0.4702\n",
            "Epoch 86/100\n",
            "72/72 [==============================] - 0s 4ms/step - loss: -125.7067 - accuracy: 0.5035 - val_loss: -133.3369 - val_accuracy: 0.4702\n",
            "Epoch 87/100\n",
            "72/72 [==============================] - 0s 3ms/step - loss: -128.1935 - accuracy: 0.5009 - val_loss: -135.7547 - val_accuracy: 0.4702\n",
            "Epoch 88/100\n",
            "72/72 [==============================] - 0s 3ms/step - loss: -130.6617 - accuracy: 0.5018 - val_loss: -137.4404 - val_accuracy: 0.4702\n",
            "Epoch 89/100\n",
            "72/72 [==============================] - 0s 3ms/step - loss: -132.2872 - accuracy: 0.4987 - val_loss: -140.6981 - val_accuracy: 0.4702\n",
            "Epoch 90/100\n",
            "72/72 [==============================] - 0s 3ms/step - loss: -134.4619 - accuracy: 0.5018 - val_loss: -142.9395 - val_accuracy: 0.4702\n",
            "Epoch 91/100\n",
            "72/72 [==============================] - 0s 3ms/step - loss: -136.6355 - accuracy: 0.4982 - val_loss: -145.3022 - val_accuracy: 0.4702\n",
            "Epoch 92/100\n",
            "72/72 [==============================] - 0s 3ms/step - loss: -138.6420 - accuracy: 0.5013 - val_loss: -147.8158 - val_accuracy: 0.4702\n",
            "Epoch 93/100\n",
            "72/72 [==============================] - 0s 4ms/step - loss: -141.0944 - accuracy: 0.5026 - val_loss: -150.0432 - val_accuracy: 0.4702\n",
            "Epoch 94/100\n",
            "72/72 [==============================] - 0s 3ms/step - loss: -142.8840 - accuracy: 0.5013 - val_loss: -153.3226 - val_accuracy: 0.4702\n",
            "Epoch 95/100\n",
            "72/72 [==============================] - 0s 3ms/step - loss: -145.3595 - accuracy: 0.5013 - val_loss: -154.5865 - val_accuracy: 0.4702\n",
            "Epoch 96/100\n",
            "72/72 [==============================] - 0s 3ms/step - loss: -148.4152 - accuracy: 0.5035 - val_loss: -156.5324 - val_accuracy: 0.4702\n",
            "Epoch 97/100\n",
            "72/72 [==============================] - 0s 3ms/step - loss: -150.6792 - accuracy: 0.5057 - val_loss: -159.4265 - val_accuracy: 0.4702\n",
            "Epoch 98/100\n",
            "72/72 [==============================] - 0s 3ms/step - loss: -152.5369 - accuracy: 0.5000 - val_loss: -162.3444 - val_accuracy: 0.4702\n",
            "Epoch 99/100\n",
            "72/72 [==============================] - 0s 3ms/step - loss: -155.2386 - accuracy: 0.5026 - val_loss: -164.6816 - val_accuracy: 0.4702\n",
            "Epoch 100/100\n",
            "72/72 [==============================] - 0s 3ms/step - loss: -157.8104 - accuracy: 0.5026 - val_loss: -166.8604 - val_accuracy: 0.4702\n"
          ]
        }
      ]
    },
    {
      "cell_type": "markdown",
      "source": [
        "**6 - Model Evaluation**"
      ],
      "metadata": {
        "id": "p1ak92teC4BR"
      }
    },
    {
      "cell_type": "markdown",
      "source": [
        "**6.1 - Checking the loss curve for train and validation data**"
      ],
      "metadata": {
        "id": "bU7X5L1VuRp1"
      }
    },
    {
      "cell_type": "code",
      "source": [
        "# Plotting the loss curve\n",
        "plt.figure(figsize=(12, 5))\n",
        "\n",
        "# Plotting the training loss\n",
        "plt.subplot(1, 2, 1)\n",
        "plt.plot(history.history['loss'], label='Training Loss')\n",
        "plt.plot(history.history['val_loss'], label='Validation Loss')\n",
        "plt.title('Training and Validation Loss')\n",
        "plt.xlabel('Epoch')\n",
        "plt.ylabel('Loss')\n",
        "plt.legend()"
      ],
      "metadata": {
        "colab": {
          "base_uri": "https://localhost:8080/",
          "height": 505
        },
        "id": "8LVIlhIDFcQA",
        "outputId": "133caf7c-40dd-4588-9961-781599591ae8"
      },
      "execution_count": 20,
      "outputs": [
        {
          "output_type": "execute_result",
          "data": {
            "text/plain": [
              "<matplotlib.legend.Legend at 0x7de99801e680>"
            ]
          },
          "metadata": {},
          "execution_count": 20
        },
        {
          "output_type": "display_data",
          "data": {
            "text/plain": [
              "<Figure size 1200x500 with 1 Axes>"
            ],
            "image/png": "[encoded data removed]"
          },
          "metadata": {}
        }
      ]
    },
    {
      "cell_type": "code",
      "source": [
        "train_predictions = binary_model.predict(train_x)\n",
        "val_predictions = binary_model.predict(val_x)"
      ],
      "metadata": {
        "colab": {
          "base_uri": "https://localhost:8080/"
        },
        "id": "kacOac69DXB0",
        "outputId": "1e88ce0a-8135-4fa6-fc85-03dc728288df"
      },
      "execution_count": 15,
      "outputs": [
        {
          "output_type": "stream",
          "name": "stdout",
          "text": [
            "72/72 [==============================] - 0s 1ms/step\n",
            "18/18 [==============================] - 0s 1ms/step\n"
          ]
        }
      ]
    },
    {
      "cell_type": "code",
      "source": [
        "pred_val_y= (binary_model.predict(train_x) > 0.5).astype(int)\n",
        "mcc = matthews_corrcoef(train_y, pred_val_y)\n",
        "print(f'Matthews Correlation Coefficient on validation set: {mcc}')"
      ],
      "metadata": {
        "colab": {
          "base_uri": "https://localhost:8080/"
        },
        "id": "CNSFJuVWc0o9",
        "outputId": "130ef054-bb6a-4287-c10d-497823839df7"
      },
      "execution_count": 16,
      "outputs": [
        {
          "output_type": "stream",
          "name": "stdout",
          "text": [
            "72/72 [==============================] - 0s 1ms/step\n",
            "Matthews Correlation Coefficient on validation set: 0.5\n"
          ]
        }
      ]
    },
    {
      "cell_type": "markdown",
      "source": [
        "**6.2 - Building a Confusion Matrix**"
      ],
      "metadata": {
        "id": "IPGoJVh2uLN1"
      }
    },
    {
      "cell_type": "code",
      "source": [
        "def plotCf(a,b,t):\n",
        "    cf = confusion_matrix(a, b)\n",
        "    plt.imshow(cf, cmap = plt.cm.Blues, interpolation = 'nearest')\n",
        "    plt.colorbar()\n",
        "    plt.title(t)\n",
        "    plt.xlabel('Predicted')\n",
        "    plt.ylabel('Actual')\n",
        "    tick_marks = np.arange(len(set(a))) # length of classes\n",
        "    class_labels = ['0','1']\n",
        "    plt.xticks(tick_marks,class_labels)\n",
        "    plt.yticks(tick_marks,class_labels)\n",
        "    thresh = cf.max() / 2.\n",
        "    for i,j in itertools.product(range(cf.shape[0]),range(cf.shape[1])):\n",
        "        plt.text(j, i, format(cf[i,j],'d'), horizontalalignment = 'center', color = 'white' if cf[i,j] >thresh else 'black')\n",
        "    plt.show()"
      ],
      "metadata": {
        "id": "XRTt0RDaccq0"
      },
      "execution_count": 17,
      "outputs": []
    },
    {
      "cell_type": "code",
      "source": [
        "X, Y = train_x, train_y\n",
        "target = np.around(np.squeeze(train_y), decimals = 0).astype(np.int)\n",
        "predicted = np.around(np.squeeze(train_predictions), decimals = 0).astype(np.int)\n",
        "plotCf(target, predicted, 'Confusion Matrix Training Set')\n",
        "\n",
        "X, Y = val_x, val_y\n",
        "target = np.around(np.squeeze(val_y), decimals = 0).astype(np.int)\n",
        "predicted = np.around(np.squeeze(val_predictions), decimals = 0).astype(np.int)\n",
        "plotCf(target, predicted, 'Confusion Matrix Validation Set')"
      ],
      "metadata": {
        "colab": {
          "base_uri": "https://localhost:8080/",
          "height": 1000
        },
        "id": "EKbf4atXU6rG",
        "outputId": "64c43e41-d7ce-438e-c445-9eea6b471e27"
      },
      "execution_count": 18,
      "outputs": [
        {
          "output_type": "stream",
          "name": "stderr",
          "text": [
            "<ipython-input-18-e81eeee8b2b9>:2: DeprecationWarning: `np.int` is a deprecated alias for the builtin `int`. To silence this warning, use `int` by itself. Doing this will not modify any behavior and is safe. When replacing `np.int`, you may wish to use e.g. `np.int64` or `np.int32` to specify the precision. If you wish to review your current use, check the release note link for additional information.\n",
            "Deprecated in NumPy 1.20; for more details and guidance: https://numpy.org/devdocs/release/1.20.0-notes.html#deprecations\n",
            "  target = np.around(np.squeeze(train_y), decimals = 0).astype(np.int)\n",
            "<ipython-input-18-e81eeee8b2b9>:3: DeprecationWarning: `np.int` is a deprecated alias for the builtin `int`. To silence this warning, use `int` by itself. Doing this will not modify any behavior and is safe. When replacing `np.int`, you may wish to use e.g. `np.int64` or `np.int32` to specify the precision. If you wish to review your current use, check the release note link for additional information.\n",
            "Deprecated in NumPy 1.20; for more details and guidance: https://numpy.org/devdocs/release/1.20.0-notes.html#deprecations\n",
            "  predicted = np.around(np.squeeze(train_predictions), decimals = 0).astype(np.int)\n"
          ]
        },
        {
          "output_type": "display_data",
          "data": {
            "text/plain": [
              "<Figure size 640x480 with 2 Axes>"
            ],
            "image/png": "[encoded data removed]"
          },
          "metadata": {}
        },
        {
          "output_type": "stream",
          "name": "stderr",
          "text": [
            "<ipython-input-18-e81eeee8b2b9>:7: DeprecationWarning: `np.int` is a deprecated alias for the builtin `int`. To silence this warning, use `int` by itself. Doing this will not modify any behavior and is safe. When replacing `np.int`, you may wish to use e.g. `np.int64` or `np.int32` to specify the precision. If you wish to review your current use, check the release note link for additional information.\n",
            "Deprecated in NumPy 1.20; for more details and guidance: https://numpy.org/devdocs/release/1.20.0-notes.html#deprecations\n",
            "  target = np.around(np.squeeze(val_y), decimals = 0).astype(np.int)\n",
            "<ipython-input-18-e81eeee8b2b9>:8: DeprecationWarning: `np.int` is a deprecated alias for the builtin `int`. To silence this warning, use `int` by itself. Doing this will not modify any behavior and is safe. When replacing `np.int`, you may wish to use e.g. `np.int64` or `np.int32` to specify the precision. If you wish to review your current use, check the release note link for additional information.\n",
            "Deprecated in NumPy 1.20; for more details and guidance: https://numpy.org/devdocs/release/1.20.0-notes.html#deprecations\n",
            "  predicted = np.around(np.squeeze(val_predictions), decimals = 0).astype(np.int)\n"
          ]
        },
        {
          "output_type": "display_data",
          "data": {
            "text/plain": [
              "<Figure size 640x480 with 2 Axes>"
            ],
            "image/png": "[encoded data removed]"
          },
          "metadata": {}
        }
      ]
    },
    {
      "cell_type": "markdown",
      "source": [
        "**7 - MAKING PREDICTIONS FOR THE TEST FILE**"
      ],
      "metadata": {
        "id": "xKun5eZ1uoZS"
      }
    },
    {
      "cell_type": "code",
      "source": [
        "predictions_test = (binary_model.predict(dense_mat_test) > 0.5).astype(int)"
      ],
      "metadata": {
        "colab": {
          "base_uri": "https://localhost:8080/"
        },
        "id": "bcSpsryDb1b3",
        "outputId": "9c6279db-3461-49c6-92c2-34039157768e"
      },
      "execution_count": 23,
      "outputs": [
        {
          "output_type": "stream",
          "name": "stdout",
          "text": [
            "13/13 [==============================] - 0s 2ms/step\n"
          ]
        }
      ]
    },
    {
      "cell_type": "code",
      "source": [
        "predictions_test = np.where(predictions_test == 0, -1, predictions_test)"
      ],
      "metadata": {
        "id": "TuQB6asYug0l"
      },
      "execution_count": 24,
      "outputs": []
    },
    {
      "cell_type": "code",
      "source": [
        "predictions_test"
      ],
      "metadata": {
        "colab": {
          "base_uri": "https://localhost:8080/"
        },
        "id": "uQFTaRrkuhyA",
        "outputId": "307d554d-b67e-4589-dab7-db31cd67f1b8"
      },
      "execution_count": 25,
      "outputs": [
        {
          "output_type": "execute_result",
          "data": {
            "text/plain": [
              "array([[-1],\n",
              "       [-1],\n",
              "       [ 1],\n",
              "       [-1],\n",
              "       [-1],\n",
              "       [-1],\n",
              "       [ 1],\n",
              "       [-1],\n",
              "       [-1],\n",
              "       [ 1],\n",
              "       [-1],\n",
              "       [ 1],\n",
              "       [-1],\n",
              "       [-1],\n",
              "       [-1],\n",
              "       [ 1],\n",
              "       [-1],\n",
              "       [-1],\n",
              "       [-1],\n",
              "       [-1],\n",
              "       [-1],\n",
              "       [-1],\n",
              "       [-1],\n",
              "       [-1],\n",
              "       [-1],\n",
              "       [ 1],\n",
              "       [-1],\n",
              "       [-1],\n",
              "       [-1],\n",
              "       [-1],\n",
              "       [-1],\n",
              "       [-1],\n",
              "       [-1],\n",
              "       [-1],\n",
              "       [-1],\n",
              "       [ 1],\n",
              "       [-1],\n",
              "       [-1],\n",
              "       [-1],\n",
              "       [-1],\n",
              "       [-1],\n",
              "       [-1],\n",
              "       [-1],\n",
              "       [-1],\n",
              "       [-1],\n",
              "       [-1],\n",
              "       [-1],\n",
              "       [-1],\n",
              "       [-1],\n",
              "       [ 1],\n",
              "       [-1],\n",
              "       [-1],\n",
              "       [-1],\n",
              "       [-1],\n",
              "       [-1],\n",
              "       [-1],\n",
              "       [-1],\n",
              "       [-1],\n",
              "       [-1],\n",
              "       [-1],\n",
              "       [-1],\n",
              "       [-1],\n",
              "       [ 1],\n",
              "       [-1],\n",
              "       [-1],\n",
              "       [-1],\n",
              "       [-1],\n",
              "       [-1],\n",
              "       [-1],\n",
              "       [-1],\n",
              "       [-1],\n",
              "       [-1],\n",
              "       [-1],\n",
              "       [-1],\n",
              "       [-1],\n",
              "       [-1],\n",
              "       [-1],\n",
              "       [-1],\n",
              "       [-1],\n",
              "       [-1],\n",
              "       [ 1],\n",
              "       [-1],\n",
              "       [-1],\n",
              "       [-1],\n",
              "       [-1],\n",
              "       [-1],\n",
              "       [ 1],\n",
              "       [-1],\n",
              "       [-1],\n",
              "       [-1],\n",
              "       [-1],\n",
              "       [-1],\n",
              "       [-1],\n",
              "       [-1],\n",
              "       [-1],\n",
              "       [-1],\n",
              "       [-1],\n",
              "       [-1],\n",
              "       [-1],\n",
              "       [-1],\n",
              "       [-1],\n",
              "       [-1],\n",
              "       [-1],\n",
              "       [-1],\n",
              "       [-1],\n",
              "       [-1],\n",
              "       [-1],\n",
              "       [ 1],\n",
              "       [-1],\n",
              "       [-1],\n",
              "       [-1],\n",
              "       [-1],\n",
              "       [-1],\n",
              "       [-1],\n",
              "       [-1],\n",
              "       [-1],\n",
              "       [-1],\n",
              "       [-1],\n",
              "       [-1],\n",
              "       [-1],\n",
              "       [-1],\n",
              "       [-1],\n",
              "       [-1],\n",
              "       [-1],\n",
              "       [-1],\n",
              "       [-1],\n",
              "       [-1],\n",
              "       [-1],\n",
              "       [-1],\n",
              "       [ 1],\n",
              "       [-1],\n",
              "       [-1],\n",
              "       [-1],\n",
              "       [-1],\n",
              "       [-1],\n",
              "       [-1],\n",
              "       [-1],\n",
              "       [-1],\n",
              "       [-1],\n",
              "       [-1],\n",
              "       [-1],\n",
              "       [-1],\n",
              "       [-1],\n",
              "       [-1],\n",
              "       [-1],\n",
              "       [-1],\n",
              "       [-1],\n",
              "       [-1],\n",
              "       [-1],\n",
              "       [-1],\n",
              "       [-1],\n",
              "       [-1],\n",
              "       [-1],\n",
              "       [ 1],\n",
              "       [-1],\n",
              "       [-1],\n",
              "       [-1],\n",
              "       [-1],\n",
              "       [-1],\n",
              "       [-1],\n",
              "       [-1],\n",
              "       [-1],\n",
              "       [-1],\n",
              "       [-1],\n",
              "       [-1],\n",
              "       [ 1],\n",
              "       [-1],\n",
              "       [-1],\n",
              "       [-1],\n",
              "       [-1],\n",
              "       [-1],\n",
              "       [-1],\n",
              "       [-1],\n",
              "       [-1],\n",
              "       [-1],\n",
              "       [-1],\n",
              "       [ 1],\n",
              "       [-1],\n",
              "       [-1],\n",
              "       [-1],\n",
              "       [-1],\n",
              "       [-1],\n",
              "       [-1],\n",
              "       [-1],\n",
              "       [-1],\n",
              "       [-1],\n",
              "       [-1],\n",
              "       [-1],\n",
              "       [-1],\n",
              "       [-1],\n",
              "       [-1],\n",
              "       [-1],\n",
              "       [ 1],\n",
              "       [-1],\n",
              "       [-1],\n",
              "       [-1],\n",
              "       [ 1],\n",
              "       [-1],\n",
              "       [ 1],\n",
              "       [-1],\n",
              "       [-1],\n",
              "       [-1],\n",
              "       [-1],\n",
              "       [-1],\n",
              "       [-1],\n",
              "       [ 1],\n",
              "       [-1],\n",
              "       [ 1],\n",
              "       [-1],\n",
              "       [-1],\n",
              "       [ 1],\n",
              "       [-1],\n",
              "       [ 1],\n",
              "       [-1],\n",
              "       [-1],\n",
              "       [-1],\n",
              "       [-1],\n",
              "       [-1],\n",
              "       [-1],\n",
              "       [-1],\n",
              "       [-1],\n",
              "       [-1],\n",
              "       [-1],\n",
              "       [-1],\n",
              "       [-1],\n",
              "       [-1],\n",
              "       [-1],\n",
              "       [-1],\n",
              "       [-1],\n",
              "       [-1],\n",
              "       [-1],\n",
              "       [-1],\n",
              "       [-1],\n",
              "       [-1],\n",
              "       [-1],\n",
              "       [-1],\n",
              "       [-1],\n",
              "       [-1],\n",
              "       [-1],\n",
              "       [-1],\n",
              "       [-1],\n",
              "       [-1],\n",
              "       [-1],\n",
              "       [-1],\n",
              "       [-1],\n",
              "       [-1],\n",
              "       [-1],\n",
              "       [-1],\n",
              "       [-1],\n",
              "       [-1],\n",
              "       [-1],\n",
              "       [-1],\n",
              "       [-1],\n",
              "       [-1],\n",
              "       [ 1],\n",
              "       [-1],\n",
              "       [-1],\n",
              "       [-1],\n",
              "       [-1],\n",
              "       [-1],\n",
              "       [-1],\n",
              "       [-1],\n",
              "       [-1],\n",
              "       [-1],\n",
              "       [-1],\n",
              "       [-1],\n",
              "       [-1],\n",
              "       [-1],\n",
              "       [-1],\n",
              "       [-1],\n",
              "       [-1],\n",
              "       [-1],\n",
              "       [-1],\n",
              "       [ 1],\n",
              "       [ 1],\n",
              "       [-1],\n",
              "       [-1],\n",
              "       [-1],\n",
              "       [-1],\n",
              "       [-1],\n",
              "       [-1],\n",
              "       [-1],\n",
              "       [-1],\n",
              "       [-1],\n",
              "       [-1],\n",
              "       [-1],\n",
              "       [ 1],\n",
              "       [-1],\n",
              "       [-1],\n",
              "       [-1],\n",
              "       [-1],\n",
              "       [-1],\n",
              "       [-1],\n",
              "       [-1],\n",
              "       [-1],\n",
              "       [-1],\n",
              "       [-1],\n",
              "       [-1],\n",
              "       [-1],\n",
              "       [-1],\n",
              "       [-1],\n",
              "       [-1],\n",
              "       [-1],\n",
              "       [-1],\n",
              "       [-1],\n",
              "       [-1],\n",
              "       [-1],\n",
              "       [-1],\n",
              "       [-1],\n",
              "       [-1],\n",
              "       [-1],\n",
              "       [-1],\n",
              "       [-1],\n",
              "       [-1],\n",
              "       [-1],\n",
              "       [-1],\n",
              "       [-1],\n",
              "       [-1],\n",
              "       [-1],\n",
              "       [ 1],\n",
              "       [-1],\n",
              "       [-1],\n",
              "       [-1],\n",
              "       [-1],\n",
              "       [-1],\n",
              "       [-1],\n",
              "       [-1],\n",
              "       [-1],\n",
              "       [-1],\n",
              "       [-1],\n",
              "       [-1],\n",
              "       [-1],\n",
              "       [-1],\n",
              "       [-1],\n",
              "       [-1],\n",
              "       [ 1],\n",
              "       [-1],\n",
              "       [ 1],\n",
              "       [ 1],\n",
              "       [-1],\n",
              "       [-1],\n",
              "       [-1],\n",
              "       [ 1],\n",
              "       [-1],\n",
              "       [-1],\n",
              "       [-1],\n",
              "       [-1],\n",
              "       [-1],\n",
              "       [-1],\n",
              "       [-1],\n",
              "       [-1],\n",
              "       [-1],\n",
              "       [-1],\n",
              "       [-1],\n",
              "       [-1],\n",
              "       [-1],\n",
              "       [-1],\n",
              "       [-1],\n",
              "       [-1],\n",
              "       [-1],\n",
              "       [-1],\n",
              "       [-1],\n",
              "       [-1],\n",
              "       [-1],\n",
              "       [-1],\n",
              "       [-1],\n",
              "       [-1],\n",
              "       [-1],\n",
              "       [-1],\n",
              "       [-1],\n",
              "       [-1],\n",
              "       [-1],\n",
              "       [-1],\n",
              "       [-1],\n",
              "       [-1],\n",
              "       [-1],\n",
              "       [-1],\n",
              "       [-1],\n",
              "       [-1],\n",
              "       [-1],\n",
              "       [-1],\n",
              "       [-1],\n",
              "       [-1],\n",
              "       [-1],\n",
              "       [-1],\n",
              "       [-1],\n",
              "       [-1],\n",
              "       [-1],\n",
              "       [-1],\n",
              "       [-1],\n",
              "       [-1],\n",
              "       [-1]])"
            ]
          },
          "metadata": {},
          "execution_count": 25
        }
      ]
    },
    {
      "cell_type": "code",
      "source": [],
      "metadata": {
        "id": "xIAb0wXTunfe"
      },
      "execution_count": null,
      "outputs": []
    }
  ]
}